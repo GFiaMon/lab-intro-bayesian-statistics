{
 "cells": [
  {
   "cell_type": "markdown",
   "metadata": {},
   "source": [
    "# Intro to Bayesian Statistics Lab\n",
    "\n",
    "Complete the following set of exercises to solidify your knowledge of Bayesian statistics and Bayesian data analysis."
   ]
  },
  {
   "cell_type": "code",
   "execution_count": 1,
   "metadata": {},
   "outputs": [],
   "source": [
    "import pandas as pd\n",
    "import numpy as np\n",
    "import matplotlib.pyplot as plt"
   ]
  },
  {
   "cell_type": "markdown",
   "metadata": {},
   "source": [
    "## 1. Cookie Problem\n",
    "\n",
    "Suppose we have two bowls of cookies. Bowl 1 contains 30 vanilla cookies and 10 chocolate cookies. Bowl 2 contains 20 of each. You randomly pick one cookie out of one of the bowls, and it is vanilla. \n",
    "\n",
    "#### A. Use Bayes Theorem to calculate the probability that the vanilla cookie you picked came from Bowl 1?"
   ]
  },
  {
   "cell_type": "code",
   "execution_count": 6,
   "metadata": {},
   "outputs": [
    {
     "data": {
      "text/plain": [
       "'\\n# bowl1 = 30 vanilla + 10 chocolate = 40\\n# bowl2 = 20 vanilla + 20 chocolate = 40\\n\\n# P(A)\\np(bowl1) = 1/2 # A1\\np(bowl2) = 1/2 # A2  \\n\\n# P(A) prob of bowl 1\\np(b1) = 1/2 # P(A) = P(A1)\\n\\n# P(B|A) = P(vainilla given i took from bowl 1)\\np(vanilla|bowl1) = 30/40 = 3/4 # = P(B|A1) prob been vanilla if i took from bowl 1\\np(vanilla|bowl2) = 20/40 = 1/2  # = P(B|A2) \\n\\n# P(B) how many vanilla \\n# prob vanll = prob b1 AND prob vainilla in b1 OR prob b2 AND prob vainilla in bowl 2\\nP(vainilla) = P(b1)     *  p(vanill|b1)         + P(b2)     *       p(vanilla|b2)\\nP(B) =  P(A1)*P(B|A1) + P(A2) * p(B|A2)\\n\\n# P(A|B)  ?  the question\\nP(A|B) = p(vanilla|bowl1) * p(A1) / (P(A1)*P(B|A1) + P(A2) * p(B|A2))\\n\\n'"
      ]
     },
     "execution_count": 6,
     "metadata": {},
     "output_type": "execute_result"
    }
   ],
   "source": [
    "'''\n",
    "# bowl1 = 30 vanilla + 10 chocolate = 40\n",
    "# bowl2 = 20 vanilla + 20 chocolate = 40\n",
    "\n",
    "# P(A)\n",
    "p(bowl1) = 1/2 # A1\n",
    "p(bowl2) = 1/2 # A2  \n",
    "\n",
    "# P(A) prob of bowl 1\n",
    "p(b1) = 1/2 # P(A) = P(A1)\n",
    "\n",
    "# P(B|A) = P(vainilla given i took from bowl 1)\n",
    "p(vanilla|bowl1) = 30/40 = 3/4 # = P(B|A1) prob been vanilla if i took from bowl 1\n",
    "p(vanilla|bowl2) = 20/40 = 1/2  # = P(B|A2) \n",
    "\n",
    "# P(B) how many vanilla \n",
    "# prob vanll = prob b1 AND prob vainilla in b1 OR prob b2 AND prob vainilla in bowl 2\n",
    "P(vainilla) = P(b1)     *  p(vanill|b1)         + P(b2)     *       p(vanilla|b2)\n",
    "P(B) =  P(A1)*P(B|A1) + P(A2) * p(B|A2)\n",
    "\n",
    "# P(A|B)  ?  the question\n",
    "P(A|B) = p(vanilla|bowl1) * p(A1) / (P(A1)*P(B|A1) + P(A2) * p(B|A2))\n",
    "\n",
    "'''"
   ]
  },
  {
   "cell_type": "code",
   "execution_count": 4,
   "metadata": {},
   "outputs": [
    {
     "data": {
      "text/plain": [
       "0.6"
      ]
     },
     "execution_count": 4,
     "metadata": {},
     "output_type": "execute_result"
    }
   ],
   "source": [
    "prob_b1_g_vani = 3/4 * 1/2 / (1/2*3/4 + 1/2*1/2)\n",
    "prob_b1_g_vani"
   ]
  },
  {
   "cell_type": "code",
   "execution_count": 5,
   "metadata": {},
   "outputs": [
    {
     "name": "stdout",
     "output_type": "stream",
     "text": [
      "Cookie Problem: Bayesian Analysis\n",
      "---------------------------------\n",
      "Total vanilla cookies in Bowl 1: 30/40\n",
      "Total vanilla cookies in Bowl 2: 20/40\n",
      "\n",
      "Prior probability of choosing either bowl: 0.50\n",
      "Likelihood of vanilla from Bowl 1: 0.75\n",
      "Likelihood of vanilla from Bowl 2: 0.50\n",
      "\n",
      "Total probability of picking vanilla (P(V)): 0.625\n",
      "\n",
      "Final Probability (P(B1|V)): 0.6000 (60.0%)\n"
     ]
    }
   ],
   "source": [
    "# Cookie Problem: Bayesian Calculation\n",
    "# ------------------------------------\n",
    "\n",
    "# Given Data (Cookie Counts)\n",
    "bowl1_vanilla = 30\n",
    "bowl1_chocolate = 10\n",
    "bowl2_vanilla = 20\n",
    "bowl2_chocolate = 20\n",
    "\n",
    "# Total cookies per bowl\n",
    "bowl1_total = bowl1_vanilla + bowl1_chocolate  # 40\n",
    "bowl2_total = bowl2_vanilla + bowl2_chocolate  # 40\n",
    "\n",
    "# Prior Probabilities (Equally likely bowls)\n",
    "prior_b1 = 1/2  # P(B1) - probability of choosing Bowl 1 initially\n",
    "prior_b2 = 1/2  # P(B2) - probability of choosing Bowl 2 initially\n",
    "\n",
    "# Likelihoods (Probability of vanilla given bowl)\n",
    "likelihood_vanilla_given_b1 = bowl1_vanilla / bowl1_total  # P(V|B1) = 30/40 = 0.75\n",
    "likelihood_vanilla_given_b2 = bowl2_vanilla / bowl2_total  # P(V|B2) = 20/40 = 0.5\n",
    "\n",
    "# Total Probability of Observing Vanilla (Law of Total Probability)\n",
    "p_vanilla = (prior_b1 * likelihood_vanilla_given_b1) + (prior_b2 * likelihood_vanilla_given_b2)  # P(V)\n",
    "\n",
    "# Bayes' Theorem Calculation\n",
    "p_b1_given_vanilla = (likelihood_vanilla_given_b1 * prior_b1) / p_vanilla  # P(B1|V)\n",
    "\n",
    "# Result Formatting\n",
    "print(\"Cookie Problem: Bayesian Analysis\")\n",
    "print(\"---------------------------------\")\n",
    "print(f\"Total vanilla cookies in Bowl 1: {bowl1_vanilla}/40\")\n",
    "print(f\"Total vanilla cookies in Bowl 2: {bowl2_vanilla}/40\")\n",
    "print(f\"\\nPrior probability of choosing either bowl: {prior_b1:.2f}\")\n",
    "print(f\"Likelihood of vanilla from Bowl 1: {likelihood_vanilla_given_b1:.2f}\")\n",
    "print(f\"Likelihood of vanilla from Bowl 2: {likelihood_vanilla_given_b2:.2f}\")\n",
    "print(f\"\\nTotal probability of picking vanilla (P(V)): {p_vanilla:.3f}\")\n",
    "print(f\"\\nFinal Probability (P(B1|V)): {p_b1_given_vanilla:.4f} ({p_b1_given_vanilla*100:.1f}%)\")"
   ]
  },
  {
   "cell_type": "markdown",
   "metadata": {},
   "source": [
    "#### B. What is the probability that it came from Bowl 2?"
   ]
  },
  {
   "cell_type": "code",
   "execution_count": null,
   "metadata": {},
   "outputs": [
    {
     "name": "stdout",
     "output_type": "stream",
     "text": [
      "\n",
      "Final Probability (P(B2|V)): 0.4000 (40.0%)\n"
     ]
    }
   ],
   "source": [
    "# Bayes' Theorem Calculation\n",
    "p_b2_given_vanilla = (likelihood_vanilla_given_b2 * prior_b2) / p_vanilla  # P(B2|V)\n",
    "print(f\"\\nFinal Probability (P(B2|V)): {p_b2_given_vanilla:.4f} ({p_b2_given_vanilla*100:.1f}%)\")"
   ]
  },
  {
   "cell_type": "markdown",
   "metadata": {},
   "source": [
    "#### C. What if the cookie you had picked was chocolate? What are the probabilities that the chocolate cookie came from Bowl 1 and Bowl 2 respectively?"
   ]
  },
  {
   "cell_type": "code",
   "execution_count": 14,
   "metadata": {},
   "outputs": [
    {
     "name": "stdout",
     "output_type": "stream",
     "text": [
      "Cookie Problem: Bayesian Analysis\n",
      "---------------------------------\n",
      "Total chocolate cookies in Bowl 1: 10/40\n",
      "Total chocolate cookies in Bowl 2: 20/40\n",
      "\n",
      "Prior probability of choosing either bowl: 0.50\n",
      "Likelihood of chocolate from Bowl 1: 0.25\n",
      "Likelihood of chocolate from Bowl 2: 0.50\n",
      "\n",
      "Total probability of picking chocolate (P(C)): 0.375\n",
      "\n",
      "Final Probability for Bowl 1 (P(B1|C)): 0.3333 (33.3%)\n",
      "\n",
      "Final Probability for Bowl 2 (P(B2|C)): 0.6667 (66.7%)\n"
     ]
    }
   ],
   "source": [
    "# For Bowl 1\n",
    "bowl1_chocolate = 10\n",
    "bowl2_chocolate = 20\n",
    "# Total cookies per bowl\n",
    "bowl1_total = bowl1_vanilla + bowl1_chocolate  # 40\n",
    "bowl2_total = bowl2_vanilla + bowl2_chocolate  # 40\n",
    "\n",
    "\n",
    "\n",
    "# P(A1|Bc) = P(Bc|A1) x P(Bc) / P(A)\n",
    "\n",
    "# Likelihoods (Probability of chocolate given bowl)\n",
    "likelihood_choco_given_b1 = bowl1_chocolate / bowl1_total  # P(Ch|B1) = 10/40 = 0.25\n",
    "likelihood_choco_given_b2 = bowl2_chocolate / bowl2_total  # P(Ch|B2) = 20/40 = 0.5\n",
    "\n",
    "# Total Probability of Observing chocolate (Law of Total Probability)\n",
    "p_chocolate = (prior_b1 * likelihood_choco_given_b1) + (prior_b2 * likelihood_choco_given_b2)  # P(V)\n",
    "\n",
    "# Bayes' Theorem Calculation for Bowl 1\n",
    "p_b1_given_chocolate = (likelihood_choco_given_b1 * prior_b1) / p_chocolate  # P(B1|C)\n",
    "\n",
    "# Bayes' Theorem Calculation for Bowl 2\n",
    "p_b2_given_chocolate = (likelihood_choco_given_b2 * prior_b2) / p_chocolate  # P(B1|C)\n",
    "\n",
    "# Result Formatting\n",
    "print(\"Cookie Problem: Bayesian Analysis\")\n",
    "print(\"---------------------------------\")\n",
    "print(f\"Total chocolate cookies in Bowl 1: {bowl1_chocolate}/40\")\n",
    "print(f\"Total chocolate cookies in Bowl 2: {bowl2_chocolate}/40\")\n",
    "print(f\"\\nPrior probability of choosing either bowl: {prior_b1:.2f}\")\n",
    "print(f\"Likelihood of chocolate from Bowl 1: {likelihood_choco_given_b1:.2f}\")\n",
    "print(f\"Likelihood of chocolate from Bowl 2: {likelihood_choco_given_b2:.2f}\")\n",
    "print(f\"\\nTotal probability of picking chocolate (P(C)): {p_chocolate:.3f}\")\n",
    "print(f\"\\nFinal Probability for Bowl 1 (P(B1|C)): {p_b1_given_chocolate:.4f} ({p_b1_given_chocolate*100:.1f}%)\")\n",
    "print(f\"\\nFinal Probability for Bowl 2 (P(B2|C)): {p_b2_given_chocolate:.4f} ({p_b2_given_chocolate*100:.1f}%)\")\n"
   ]
  },
  {
   "cell_type": "markdown",
   "metadata": {},
   "source": [
    "## 2. Candy Problem\n",
    "\n",
    "Suppose you have two bags of candies:\n",
    "\n",
    "- In Bag 1, the mix of colors is:\n",
    "    - Brown - 30%\n",
    "    - Yellow - 20%\n",
    "    - Red - 20%\n",
    "    - Green - 10%\n",
    "    - Orange - 10%\n",
    "    - Tan - 10%\n",
    "    \n",
    "- In Bag 2, the mix of colors is:\n",
    "    - Blue - 24%\n",
    "    - Green - 20%\n",
    "    - Orange - 16%\n",
    "    - Yellow - 14%\n",
    "    - Red - 13%\n",
    "    - Brown - 13%\n",
    "    \n",
    "Not knowing which bag is which, you randomly draw one candy from each bag. One is yellow and one is green. What is the probability that the yellow one came from the Bag 1?\n",
    "\n",
    "*Hint: For the likelihoods, you will need to multiply the probabilities of drawing yellow from one bag and green from the other bag and vice versa.*"
   ]
  },
  {
   "cell_type": "code",
   "execution_count": 13,
   "metadata": {},
   "outputs": [
    {
     "name": "stdout",
     "output_type": "stream",
     "text": [
      "Probability of Scenario A (Yellow from B1, Green from B2): 0.0100\n",
      "Probability of Scenario B (Green from B1, Yellow from B2): 0.0035\n",
      "Total Probability: 0.0135\n",
      "\n",
      "Final Probability (Yellow from Bag 1): 0.7407 (74.07%)\n"
     ]
    }
   ],
   "source": [
    "# Candy Problem: Bayesian Calculation\n",
    "# ------------------------------------\n",
    "\n",
    "# Scenario A: Yellow from Bag 1 and Green from Bag 2.   P(B1|Y) x P(B2|G)\n",
    "# Scenario B: Green from Bag 1 and Yellow from Bag 2.   P(B1|G) x P(B2|Y)\n",
    "\n",
    "\n",
    "# Given Data (Probabilities as decimals)\n",
    "# Bag 1\n",
    "bag1_brown = 0.3\n",
    "bag1_yellow = 0.20  # 20%\n",
    "bag1_red = 0.2\n",
    "bag1_green = 0.10   # 10%\n",
    "bag1_orange = 0.10\n",
    "bag1_tan = 0.10\n",
    "\n",
    "# Bag 2\n",
    "bag2_blue = 0.24\n",
    "bag2_green = 0.20   # 20%\n",
    "bag2_orange = 0.16\n",
    "bag2_yellow = 0.14  # 14%\n",
    "bag2_red = 0.13\n",
    "bag2_brown = 0.13\n",
    "\n",
    "# Total candy per bag\n",
    "bag1_total =  round(bag1_brown + bag1_yellow + bag1_red + bag1_green  + bag1_orange + bag1_tan) # = 1\n",
    "\n",
    "bag2_total = round(bag2_blue + bag2_green + bag2_orange + bag2_yellow + bag2_red + bag2_brown) # = 1\n",
    "\n",
    "# Prior Probabilities (Equally likely bags)\n",
    "prior_b1 = 1/2  # P(Bag1) = 50% - probability of choosing Bag 1 initially\n",
    "prior_b2 = 1/2  # P(Bag2) = 50% - probability of choosing Bag 2 initially\n",
    "\n",
    "# Scenario A: Yellow from Bag 1 AND Green from Bag 2\n",
    "prob_scenario_a = prior_b1 * bag1_yellow * prior_b2 * bag2_green\n",
    "\n",
    "# Scenario B: Green from Bag 1 AND Yellow from Bag 2\n",
    "prob_scenario_b = prior_b1 * bag1_green * prior_b2 * bag2_yellow\n",
    "\n",
    "# Total probability of observing one yellow and one green\n",
    "total_prob = prob_scenario_a + prob_scenario_b\n",
    "\n",
    "# Probability that yellow came from Bag 1 (Scenario A / Total)\n",
    "prob_yellow_from_b1 = prob_scenario_a / total_prob\n",
    "\n",
    "# Print results\n",
    "print(f\"Probability of Scenario A (Yellow from B1, Green from B2): {prob_scenario_a:.4f}\")\n",
    "print(f\"Probability of Scenario B (Green from B1, Yellow from B2): {prob_scenario_b:.4f}\")\n",
    "print(f\"Total Probability: {total_prob:.4f}\")\n",
    "print(f\"\\nFinal Probability (Yellow from Bag 1): {prob_yellow_from_b1:.4f} ({prob_yellow_from_b1*100:.2f}%)\")"
   ]
  },
  {
   "cell_type": "markdown",
   "metadata": {},
   "source": [
    "What is the probability that the yellow candy came from Bag 2?"
   ]
  },
  {
   "cell_type": "code",
   "execution_count": 14,
   "metadata": {},
   "outputs": [
    {
     "name": "stdout",
     "output_type": "stream",
     "text": [
      "Question 2: Probability yellow came from Bag 2\n",
      "Result: 0.2593 (25.93%)\n",
      "\n"
     ]
    }
   ],
   "source": [
    "# p(B2|Y) = p(Y|B2) x p(Y) / p(B2)\n",
    "# Reuse variables from previous calculations\n",
    "# prob_scenario_a = 0.02    # Yellow from Bag 1, Green from Bag 2\n",
    "# prob_scenario_b = 0.0035  # Green from Bag 1, Yellow from Bag 2\n",
    "# total_prob = 0.0235       # Total probability of observing 1 yellow + 1 green\n",
    "\n",
    "# Question 2: Probability yellow came from Bag 2\n",
    "prob_yellow_from_b2 = 1 - (prob_scenario_a / total_prob)\n",
    "\n",
    "# Print results\n",
    "print(\"Question 2: Probability yellow came from Bag 2\")\n",
    "print(f\"Result: {prob_yellow_from_b2:.4f} ({prob_yellow_from_b2*100:.2f}%)\\n\")\n"
   ]
  },
  {
   "cell_type": "markdown",
   "metadata": {},
   "source": [
    "What are the probabilities that the green one came from Bag 1 and Bag 2 respectively?"
   ]
  },
  {
   "cell_type": "code",
   "execution_count": 15,
   "metadata": {},
   "outputs": [
    {
     "name": "stdout",
     "output_type": "stream",
     "text": [
      "Question 3: Probability green came from each bag\n",
      "Green from Bag 1: 0.2593 (25.93%)\n",
      "Green from Bag 2: 0.7407 (74.07%)\n"
     ]
    }
   ],
   "source": [
    "# Question 3: Probabilities green came from Bag 1 and Bag 2\n",
    "prob_green_from_b1 = prob_scenario_b / total_prob\n",
    "prob_green_from_b2 = prob_scenario_a / total_prob\n",
    "\n",
    "print(\"Question 3: Probability green came from each bag\")\n",
    "print(f\"Green from Bag 1: {prob_green_from_b1:.4f} ({prob_green_from_b1*100:.2f}%)\")\n",
    "print(f\"Green from Bag 2: {prob_green_from_b2:.4f} ({prob_green_from_b2*100:.2f}%)\")\n",
    "\n"
   ]
  },
  {
   "cell_type": "markdown",
   "metadata": {},
   "source": [
    "## 3. Monty Hall Problem\n",
    "\n",
    "Suppose you are a contestant on the popular game show *Let's Make a Deal*. The host of the show (Monty Hall) presents you with three doors - Door A, Door B, and Door C. He tells you that there is a sports car behind one of them and if you choose the correct one, you win the car!\n",
    "\n",
    "You select Door A, but then Monty makes things a little more interesting. He opens Door B to reveal that there is no sports car behind it and asks you if you would like to stick with your choice of Door A or switch your choice to Door C. Given this new information, what are the probabilities of you winning the car if you stick with Door A versus if you switch to Door C?"
   ]
  },
  {
   "cell_type": "code",
   "execution_count": null,
   "metadata": {},
   "outputs": [],
   "source": [
    "P(CarA|MontyB) = P(MontyB|CarA) * P(CarA) / P(MontyB)\n",
    "\n",
    "P(MontyB|CarA) = .5\n",
    "\n",
    "P(MontyB|CarB) = 0\n",
    "\n",
    "P(MontyB|CarC) = 1\n",
    "\n",
    "P(CarA) = P(CarB) = P(CarC) = 1/3\n",
    "\n",
    "P(MontyB) = P(CarA) * P(MontyB|CarA) + P(CarB) * P(MontyB|CarB) + P(CarC) * P(MontyB|CarC)\n",
    "\n",
    "P(MontyB) = 1/3 * .5 + 1/3 * 0 + 1/3 * 1\n",
    "\n",
    "P(CarA|MontyB) = .5 * 1/3 / (1/3 * .5 + 1/3 * 0 + 1/3 * 1)\n"
   ]
  },
  {
   "cell_type": "code",
   "execution_count": 16,
   "metadata": {},
   "outputs": [
    {
     "data": {
      "text/plain": [
       "(0.3333333333333333, 0.6666666666666667)"
      ]
     },
     "execution_count": 16,
     "metadata": {},
     "output_type": "execute_result"
    }
   ],
   "source": [
    "# probability of car being behind door A (which we chose) given that Monty opened door B:\n",
    "proba_win_if_stay = .5 * 1/3 / (1/3 * .5 + 1/3 * 0 + 1/3 * 1)\n",
    "\n",
    "# probability of car being behind door C - because we chose A and Monty opened B, this represents the probability of switching doors:\n",
    "proba_win_if_switch = 1 - proba_win_if_stay\n",
    "proba_win_if_stay, proba_win_if_switch"
   ]
  },
  {
   "cell_type": "code",
   "execution_count": 15,
   "metadata": {},
   "outputs": [
    {
     "name": "stdout",
     "output_type": "stream",
     "text": [
      "Monty Hall Problem Probabilities\n",
      "--------------------------------\n",
      "Probability of winning if you STAY: 0.3333 (33.3%)\n",
      "Probability of winning if you SWITCH: 0.6667 (66.7%)\n"
     ]
    }
   ],
   "source": [
    "# Monty Hall Probability Calculation\n",
    "# -----------------------------------------\n",
    "\n",
    "# Prior probabilities (initial car placement)\n",
    "p_car_a = 1/3  # Probability car is behind Door A\n",
    "p_car_b = 1/3  # Probability car is behind Door B\n",
    "p_car_c = 1/3  # Probability car is behind Door C\n",
    "\n",
    "# Conditional probabilities (Monty's behavior)\n",
    "# Given where the car is, what's the probability Monty opens Door B?\n",
    "p_monty_b_given_car_a = 0.5  # If car is at A: Monty can open either B or C\n",
    "p_monty_b_given_car_b = 0.0   # If car is at B: Monty cannot open B\n",
    "p_monty_b_given_car_c = 1.0   # If car is at C: Monty must open B\n",
    "\n",
    "# Total probability of Monty opening Door B (law of total probability)\n",
    "p_monty_b = (\n",
    "    p_car_a * p_monty_b_given_car_a +\n",
    "    p_car_b * p_monty_b_given_car_b +\n",
    "    p_car_c * p_monty_b_given_car_c\n",
    ")\n",
    "\n",
    "# Bayes' theorem calculation\n",
    "# Probability car is behind A given Monty opened B\n",
    "p_car_a_given_monty_b = (p_monty_b_given_car_a * p_car_a) / p_monty_b\n",
    "\n",
    "# Final probabilities\n",
    "prob_win_if_stay = p_car_a_given_monty_b  # ≈ 1/3\n",
    "prob_win_if_switch = 1 - prob_win_if_stay  # ≈ 2/3\n",
    "\n",
    "# Display results\n",
    "print(\"Monty Hall Problem Probabilities\")\n",
    "print(\"--------------------------------\")\n",
    "print(f\"Probability of winning if you STAY: {prob_win_if_stay:.4f} ({prob_win_if_stay*100:.1f}%)\")\n",
    "print(f\"Probability of winning if you SWITCH: {prob_win_if_switch:.4f} ({prob_win_if_switch*100:.1f}%)\")"
   ]
  },
  {
   "cell_type": "markdown",
   "metadata": {},
   "source": [
    "# Bonus: Advanced Bayesian Challenge"
   ]
  },
  {
   "cell_type": "markdown",
   "metadata": {},
   "source": [
    "## 1. Bayesian Analysis \n",
    "\n",
    "Suppose you work for a landscaping company, and they want to advertise their service online. They create an ad and sit back waiting for the money to roll in. On the first day, the ad sends 100 visitors to the site and 14 of them sign up for landscaping services. Create a generative model to come up with the posterior distribution and produce a visualization of what the posterior distribution would look like given the observed data."
   ]
  },
  {
   "cell_type": "code",
   "execution_count": 16,
   "metadata": {},
   "outputs": [
    {
     "data": {
      "image/png": "[encoded data removed]",
      "text/plain": [
       "<Figure size 1000x600 with 1 Axes>"
      ]
     },
     "metadata": {},
     "output_type": "display_data"
    }
   ],
   "source": [
    "import numpy as np\n",
    "import matplotlib.pyplot as plt\n",
    "from scipy.stats import beta\n",
    "\n",
    "# Observed data\n",
    "visitors = 100\n",
    "signups = 14\n",
    "\n",
    "# Prior parameters (Beta distribution)\n",
    "alpha_prior = 1\n",
    "beta_prior = 1\n",
    "\n",
    "# Posterior parameters\n",
    "alpha_posterior = alpha_prior + signups\n",
    "beta_posterior = beta_prior + (visitors - signups)\n",
    "\n",
    "# Generate conversion rate values between 0 and 1\n",
    "conversion_rates = np.linspace(0, 1, 1000)\n",
    "\n",
    "# Calculate prior and posterior densities\n",
    "prior_density = beta.pdf(conversion_rates, alpha_prior, beta_prior)\n",
    "posterior_density = beta.pdf(conversion_rates, alpha_posterior, beta_posterior)\n",
    "\n",
    "# Calculate MAP (maximum a posteriori estimate)\n",
    "map_estimate = (alpha_posterior - 1) / (alpha_posterior + beta_posterior - 2)\n",
    "\n",
    "# Calculate 95% credible interval\n",
    "lower, upper = beta.ppf([0.025, 0.975], alpha_posterior, beta_posterior)\n",
    "\n",
    "# Plotting\n",
    "plt.figure(figsize=(10, 6))\n",
    "plt.plot(conversion_rates, prior_density, '--', label=f'Prior (Beta({alpha_prior}, {beta_prior}))')\n",
    "plt.plot(conversion_rates, posterior_density, label=f'Posterior (Beta({alpha_posterior}, {beta_posterior}))')\n",
    "plt.fill_between(conversion_rates, posterior_density, color='skyblue', alpha=0.3)\n",
    "plt.axvline(map_estimate, color='red', linestyle='--', label=f'MAP = {map_estimate:.2f}')\n",
    "plt.axvline(lower, color='gray', linestyle=':', label='95% Credible Interval')\n",
    "plt.axvline(upper, color='gray', linestyle=':')\n",
    "\n",
    "# Formatting\n",
    "plt.title('Posterior Distribution of Conversion Rate', fontsize=14)\n",
    "plt.xlabel('Conversion Rate (Probability of Sign-up)', fontsize=12)\n",
    "plt.ylabel('Probability Density', fontsize=12)\n",
    "plt.legend()\n",
    "plt.grid(linestyle='--', alpha=0.5)\n",
    "\n",
    "# Add text for credible interval\n",
    "plt.text(x=0.15, y=5, s=f'95% CI: [{lower:.3f}, {upper:.3f}]', fontsize=10)\n",
    "\n",
    "plt.show()"
   ]
  },
  {
   "cell_type": "markdown",
   "metadata": {},
   "source": [
    "Produce a set of descriptive statistics for the posterior distribution."
   ]
  },
  {
   "cell_type": "code",
   "execution_count": null,
   "metadata": {},
   "outputs": [],
   "source": []
  },
  {
   "cell_type": "markdown",
   "metadata": {},
   "source": [
    "What is the 90% credible interval range?"
   ]
  },
  {
   "cell_type": "code",
   "execution_count": null,
   "metadata": {},
   "outputs": [],
   "source": []
  },
  {
   "cell_type": "markdown",
   "metadata": {},
   "source": [
    "What is the Maximum Likelihood Estimate?"
   ]
  },
  {
   "cell_type": "code",
   "execution_count": null,
   "metadata": {},
   "outputs": [],
   "source": []
  }
 ],
 "metadata": {
  "kernelspec": {
   "display_name": "datasci_env",
   "language": "python",
   "name": "python3"
  },
  "language_info": {
   "codemirror_mode": {
    "name": "ipython",
    "version": 3
   },
   "file_extension": ".py",
   "mimetype": "text/x-python",
   "name": "python",
   "nbconvert_exporter": "python",
   "pygments_lexer": "ipython3",
   "version": "3.8.20"
  }
 },
 "nbformat": 4,
 "nbformat_minor": 2
}
